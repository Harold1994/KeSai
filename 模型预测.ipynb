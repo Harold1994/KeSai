{
 "cells": [
  {
   "cell_type": "code",
   "execution_count": 7,
   "metadata": {},
   "outputs": [],
   "source": [
    "import pandas as pd\n",
    "from sklearn import model_selection\n",
    "import numpy as np\n",
    "import sklearn.metrics\n",
    "from sklearn.model_selection import train_test_split  \n",
    "import lightgbm as lgb"
   ]
  },
  {
   "cell_type": "code",
   "execution_count": null,
   "metadata": {},
   "outputs": [],
   "source": []
  },
  {
   "cell_type": "code",
   "execution_count": 8,
   "metadata": {},
   "outputs": [
    {
     "name": "stdout",
     "output_type": "stream",
     "text": [
      "开始处理特征...\n"
     ]
    }
   ],
   "source": [
    "print('开始处理特征...')\n",
    "train_path = 'data/train_and_test/train.csv'\n",
    "test_path = 'data/train_and_test/test.csv'\n",
    "train = pd.read_csv(train_path)\n",
    "test = pd.read_csv(test_path)\n",
    "used_feature = [ 'create_count', 'create_day_mean', 'create_day_max',\n",
    "       'create_day_min', 'create_day_std', 'create_day_var',\n",
    "       'last_day_cut_max_day', 'create_sub_register_x',\n",
    "       'max_create_times_per_day', 'device_type', 'register_type',\n",
    "       'register_day_cut_max_day', 'launch_count', 'launch_day_mean',\n",
    "       'launch_day_max', 'launch_day_min', 'launch_day_std', 'launch_day_var',\n",
    "       'launch_day_cut_max_day', 'create_sub_register_y',\n",
    "       'max_launch_times_per_day', 'activity_count', 'activity_day_mean',\n",
    "       'activity_day_max', 'activity_day_min', 'activity_day_std',\n",
    "       'activity_day_var', 'activity_day_ske', 'activity_day_kur',\n",
    "       'activity_day_cut_max_day', 'create_sub_register', '0_page_count',\n",
    "       '1_page_count', '2_page_count', '3_page_count', '4_page_count',\n",
    "       '0_page_count_div_sum', '1_page_count_div_sum', '2_page_count_div_sum',\n",
    "       '3_page_count_div_sum', '4_page_count_div_sum', '0_action_count',\n",
    "       '1_action_count', '2_action_count', '3_action_count', '4_action_count',\n",
    "       '5_action_count', '0_action_count_div_sum', '1_action_count_div_sum',\n",
    "       '2_action_count_div_sum', '3_action_count_div_sum',\n",
    "       '4_action_count_div_sum', '5_action_count_div_sum',\n",
    "       'max_act_times_per_day', 'watch_self']\n",
    "used_feature = np.array(used_feature)\n",
    "train_feature = train[used_feature]\n",
    "test_feature = test[used_feature]\n",
    "label = train['label']\n",
    "X_train, X_test, Y_train, Y_test = model_selection.train_test_split(train_feature, label, test_size=0.2,random_state=1017)\n"
   ]
  },
  {
   "cell_type": "code",
   "execution_count": 9,
   "metadata": {},
   "outputs": [
    {
     "name": "stdout",
     "output_type": "stream",
     "text": [
      "载入数据......\n",
      "开始训练......\n",
      "[1]\tvalid_0's auc: 0.871164\tvalid_0's binary_logloss: 0.651163\n",
      "[2]\tvalid_0's auc: 0.873073\tvalid_0's binary_logloss: 0.618094\n",
      "[3]\tvalid_0's auc: 0.87408\tvalid_0's binary_logloss: 0.590797\n",
      "[4]\tvalid_0's auc: 0.875177\tvalid_0's binary_logloss: 0.567904\n",
      "[5]\tvalid_0's auc: 0.875476\tvalid_0's binary_logloss: 0.548641\n",
      "[6]\tvalid_0's auc: 0.876429\tvalid_0's binary_logloss: 0.532336\n",
      "[7]\tvalid_0's auc: 0.876828\tvalid_0's binary_logloss: 0.518524\n",
      "[8]\tvalid_0's auc: 0.877073\tvalid_0's binary_logloss: 0.506741\n",
      "[9]\tvalid_0's auc: 0.877317\tvalid_0's binary_logloss: 0.496703\n",
      "[10]\tvalid_0's auc: 0.877455\tvalid_0's binary_logloss: 0.488114\n",
      "[11]\tvalid_0's auc: 0.877777\tvalid_0's binary_logloss: 0.480584\n",
      "[12]\tvalid_0's auc: 0.877935\tvalid_0's binary_logloss: 0.474262\n",
      "[13]\tvalid_0's auc: 0.878104\tvalid_0's binary_logloss: 0.468724\n",
      "[14]\tvalid_0's auc: 0.878421\tvalid_0's binary_logloss: 0.463773\n",
      "[15]\tvalid_0's auc: 0.878576\tvalid_0's binary_logloss: 0.459558\n",
      "[16]\tvalid_0's auc: 0.87873\tvalid_0's binary_logloss: 0.455938\n",
      "[17]\tvalid_0's auc: 0.87895\tvalid_0's binary_logloss: 0.452894\n",
      "[18]\tvalid_0's auc: 0.879019\tvalid_0's binary_logloss: 0.450204\n",
      "[19]\tvalid_0's auc: 0.879176\tvalid_0's binary_logloss: 0.447828\n",
      "[20]\tvalid_0's auc: 0.879382\tvalid_0's binary_logloss: 0.445675\n",
      "[21]\tvalid_0's auc: 0.879603\tvalid_0's binary_logloss: 0.44372\n",
      "[22]\tvalid_0's auc: 0.879911\tvalid_0's binary_logloss: 0.441957\n",
      "[23]\tvalid_0's auc: 0.880165\tvalid_0's binary_logloss: 0.440432\n",
      "[24]\tvalid_0's auc: 0.880415\tvalid_0's binary_logloss: 0.439045\n",
      "[25]\tvalid_0's auc: 0.880625\tvalid_0's binary_logloss: 0.437891\n",
      "[26]\tvalid_0's auc: 0.880869\tvalid_0's binary_logloss: 0.436781\n",
      "[27]\tvalid_0's auc: 0.88114\tvalid_0's binary_logloss: 0.435689\n",
      "[28]\tvalid_0's auc: 0.88132\tvalid_0's binary_logloss: 0.434844\n",
      "[29]\tvalid_0's auc: 0.881495\tvalid_0's binary_logloss: 0.434021\n",
      "[30]\tvalid_0's auc: 0.881794\tvalid_0's binary_logloss: 0.433154\n",
      "[31]\tvalid_0's auc: 0.881985\tvalid_0's binary_logloss: 0.432484\n",
      "[32]\tvalid_0's auc: 0.882253\tvalid_0's binary_logloss: 0.431729\n",
      "[33]\tvalid_0's auc: 0.882544\tvalid_0's binary_logloss: 0.43099\n",
      "[34]\tvalid_0's auc: 0.882757\tvalid_0's binary_logloss: 0.430379\n",
      "[35]\tvalid_0's auc: 0.883011\tvalid_0's binary_logloss: 0.429711\n",
      "[36]\tvalid_0's auc: 0.883268\tvalid_0's binary_logloss: 0.429106\n",
      "[37]\tvalid_0's auc: 0.883433\tvalid_0's binary_logloss: 0.428678\n",
      "[38]\tvalid_0's auc: 0.883609\tvalid_0's binary_logloss: 0.428256\n",
      "[39]\tvalid_0's auc: 0.88375\tvalid_0's binary_logloss: 0.427841\n",
      "[40]\tvalid_0's auc: 0.884085\tvalid_0's binary_logloss: 0.427109\n",
      "[41]\tvalid_0's auc: 0.884307\tvalid_0's binary_logloss: 0.426622\n",
      "[42]\tvalid_0's auc: 0.88452\tvalid_0's binary_logloss: 0.42618\n",
      "[43]\tvalid_0's auc: 0.884736\tvalid_0's binary_logloss: 0.425751\n",
      "[44]\tvalid_0's auc: 0.884991\tvalid_0's binary_logloss: 0.425255\n",
      "[45]\tvalid_0's auc: 0.885132\tvalid_0's binary_logloss: 0.424861\n",
      "[46]\tvalid_0's auc: 0.885324\tvalid_0's binary_logloss: 0.42448\n",
      "[47]\tvalid_0's auc: 0.88558\tvalid_0's binary_logloss: 0.423944\n",
      "[48]\tvalid_0's auc: 0.885788\tvalid_0's binary_logloss: 0.423497\n",
      "[49]\tvalid_0's auc: 0.886083\tvalid_0's binary_logloss: 0.422956\n",
      "[50]\tvalid_0's auc: 0.886373\tvalid_0's binary_logloss: 0.422467\n",
      "[51]\tvalid_0's auc: 0.88657\tvalid_0's binary_logloss: 0.42205\n",
      "[52]\tvalid_0's auc: 0.886745\tvalid_0's binary_logloss: 0.421687\n",
      "[53]\tvalid_0's auc: 0.886983\tvalid_0's binary_logloss: 0.421287\n",
      "[54]\tvalid_0's auc: 0.887167\tvalid_0's binary_logloss: 0.420829\n",
      "[55]\tvalid_0's auc: 0.887339\tvalid_0's binary_logloss: 0.420476\n",
      "[56]\tvalid_0's auc: 0.887597\tvalid_0's binary_logloss: 0.420128\n",
      "[57]\tvalid_0's auc: 0.887757\tvalid_0's binary_logloss: 0.419823\n",
      "[58]\tvalid_0's auc: 0.887936\tvalid_0's binary_logloss: 0.419501\n",
      "结果：0.8151239462482264\n",
      "特征重要性：[7, 19, 17, 6, 9, 0, 20, 4, 9, 0, 0, 0, 128, 21, 29, 18, 132, 6, 190, 18, 0, 46, 27, 40, 17, 52, 23, 74, 0, 41, 0, 43, 51, 46, 39, 10, 56, 55, 33, 57, 35, 93, 20, 12, 14, 0, 0, 44, 54, 38, 26, 0, 9, 52, 0]\n",
      "为1的个数：0\n",
      "为0的个数：0\n"
     ]
    }
   ],
   "source": [
    "print('载入数据......')\n",
    "lgb_train = lgb.Dataset(train_feature, label)\n",
    "lgb_eval = lgb.Dataset(X_test, Y_test, reference=lgb_train)\n",
    "print('开始训练......')\n",
    "params = {\n",
    "    'task': 'train',\n",
    "    'boosting_type': 'gbdt',\n",
    "    'objective': 'binary',\n",
    "    'metric': {'auc', 'binary_logloss'}\n",
    "}\n",
    "gbm = lgb.train(params,\n",
    "                lgb_train,\n",
    "                num_boost_round=58,\n",
    "                valid_sets=lgb_eval\n",
    "                )\n",
    "gbm.save_model('model/lgb_model.txt')\n",
    "\n",
    "temp = gbm.predict(X_test)\n",
    "temp[temp>0.5]=1\n",
    "temp[temp<0.5]=0\n",
    "print('结果：' + str(sklearn.metrics.f1_score(Y_test, temp)))\n",
    "print('特征重要性：'+ str(list(gbm.feature_importance())))\n",
    "\n",
    "pre = gbm.predict(test_feature)\n",
    "df_result = pd.DataFrame()\n",
    "df_result['user_id'] = test['user_id']\n",
    "df_result['result'] = pre\n",
    "df_result.to_csv('result/lgb_result.csv', index=False)\n",
    "pre[pre >= 0.5]=1\n",
    "pre[pre < 0.5]=0\n",
    "pre = map(int,pre)\n",
    "print('为1的个数：' + str(len(np.where(np.array(pre)==1)[0])))\n",
    "print('为0的个数：' + str(len(np.where(np.array(pre)==0)[0])))"
   ]
  },
  {
   "cell_type": "code",
   "execution_count": 10,
   "metadata": {},
   "outputs": [
    {
     "name": "stdout",
     "output_type": "stream",
     "text": [
      "21888\n"
     ]
    }
   ],
   "source": [
    "lgb = pd.read_csv('result/lgb_result.csv')\n",
    "res = lgb[lgb['result'] >= 0.5]\n",
    "print(len(res))\n",
    "del res['result']\n",
    "res.to_csv('result2/dealed_result.csv', index=False, header=False)"
   ]
  },
  {
   "cell_type": "code",
   "execution_count": null,
   "metadata": {},
   "outputs": [],
   "source": []
  }
 ],
 "metadata": {
  "kernelspec": {
   "display_name": "Python 3",
   "language": "python",
   "name": "python3"
  },
  "language_info": {
   "codemirror_mode": {
    "name": "ipython",
    "version": 3
   },
   "file_extension": ".py",
   "mimetype": "text/x-python",
   "name": "python",
   "nbconvert_exporter": "python",
   "pygments_lexer": "ipython3",
   "version": "3.6.4"
  }
 },
 "nbformat": 4,
 "nbformat_minor": 2
}
