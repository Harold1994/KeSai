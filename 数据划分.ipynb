{
 "cells": [
  {
   "cell_type": "code",
   "execution_count": 1,
   "metadata": {},
   "outputs": [],
   "source": [
    "import numpy as np\n",
    "import pandas as pd\n",
    "from pandas import DataFrame"
   ]
  },
  {
   "cell_type": "code",
   "execution_count": 2,
   "metadata": {},
   "outputs": [],
   "source": [
    "path =\"data/\"\n",
    "app = pd.read_table(path+'app_launch_log.txt',names=['user_id','day'],encoding='utf-8',sep='\\t',)\n",
    "user_act = pd.read_table(path+'user_activity_log.txt',names=['user_id','day','page','video_id','author_id','action_type'],encoding='utf-8',sep='\\t')\n",
    "user_reg = pd.read_table(path+'user_register_log.txt',names=['user_id','register_day','register_type','device_type'],encoding='utf-8',sep='\\t')\n",
    "video = pd.read_table(path+'video_create_log.txt',names=['user_id','day'],encoding='utf-8',sep='\\t')"
   ]
  },
  {
   "cell_type": "code",
   "execution_count": 3,
   "metadata": {},
   "outputs": [],
   "source": [
    "app.to_csv('data/app_lauch_log.csv',index=False)\n",
    "user_act.to_csv('data/user_activity_log.csv',index=False)\n",
    "user_reg.to_csv('data/user_register_log.csv',index=False)\n",
    "video.to_csv('data/video_create_log.csv',index=False)"
   ]
  },
  {
   "cell_type": "code",
   "execution_count": 4,
   "metadata": {},
   "outputs": [],
   "source": [
    "app = pd.read_csv('data/app_lauch_log.csv')\n",
    "user_act = pd.read_csv('data/user_activity_log.csv')\n",
    "user_reg = pd.read_csv('data/user_register_log.csv')\n",
    "video = pd.read_csv('data/video_create_log.csv')"
   ]
  },
  {
   "cell_type": "code",
   "execution_count": 4,
   "metadata": {},
   "outputs": [
    {
     "data": {
      "text/html": [
       "<div>\n",
       "<style scoped>\n",
       "    .dataframe tbody tr th:only-of-type {\n",
       "        vertical-align: middle;\n",
       "    }\n",
       "\n",
       "    .dataframe tbody tr th {\n",
       "        vertical-align: top;\n",
       "    }\n",
       "\n",
       "    .dataframe thead th {\n",
       "        text-align: right;\n",
       "    }\n",
       "</style>\n",
       "<table border=\"1\" class=\"dataframe\">\n",
       "  <thead>\n",
       "    <tr style=\"text-align: right;\">\n",
       "      <th></th>\n",
       "      <th>user_id</th>\n",
       "      <th>day</th>\n",
       "    </tr>\n",
       "  </thead>\n",
       "  <tbody>\n",
       "    <tr>\n",
       "      <th>0</th>\n",
       "      <td>1287915</td>\n",
       "      <td>3</td>\n",
       "    </tr>\n",
       "    <tr>\n",
       "      <th>1</th>\n",
       "      <td>1287915</td>\n",
       "      <td>4</td>\n",
       "    </tr>\n",
       "    <tr>\n",
       "      <th>2</th>\n",
       "      <td>1287915</td>\n",
       "      <td>8</td>\n",
       "    </tr>\n",
       "    <tr>\n",
       "      <th>3</th>\n",
       "      <td>1287915</td>\n",
       "      <td>14</td>\n",
       "    </tr>\n",
       "    <tr>\n",
       "      <th>4</th>\n",
       "      <td>1287915</td>\n",
       "      <td>15</td>\n",
       "    </tr>\n",
       "  </tbody>\n",
       "</table>\n",
       "</div>"
      ],
      "text/plain": [
       "   user_id  day\n",
       "0  1287915    3\n",
       "1  1287915    4\n",
       "2  1287915    8\n",
       "3  1287915   14\n",
       "4  1287915   15"
      ]
     },
     "execution_count": 4,
     "metadata": {},
     "output_type": "execute_result"
    }
   ],
   "source": [
    "# total_info = pd.DataFrame({'user_id':np.unique(pd.concat([app.user_id,user_act.user_id,user_reg.user_id,video.user_id]))})\n",
    "# a = app.groupby('user_id').count()['day']\n",
    "# a = pd.DataFrame(a.reset_index())\n",
    "# a.rename(columns={'day':'total_launch'}, inplace=True)\n",
    "# a\n",
    "# b = video.groupby('user_id').count()['day']\n",
    "# b = pd.DataFrame(b.reset_index())\n",
    "# b.rename(columns={'day':'total_create'},inplace=True)\n",
    "# c = user_act.groupby('user_id').count()['day']\n",
    "# c = pd.DataFrame(c.reset_index())\n",
    "# c.rename(columns={'day':'total_act'}, inplace=True)\n",
    "# total_info = pd.merge(total_info,a,on='user_id',how='left')\n",
    "# total_info = pd.merge(total_info,b,on='user_id',how='left')\n",
    "# total_info = pd.merge(total_info,c,on='user_id',how='left')\n",
    "# total_info.head(50)\n",
    "# total_info.to_csv('data/total_info.csv')\n",
    "app.head()"
   ]
  },
  {
   "cell_type": "code",
   "execution_count": 5,
   "metadata": {},
   "outputs": [],
   "source": [
    "vid = pd.DataFrame(user_act.video_id)\n",
    "vid['hot'] = 1\n",
    "v = vid.groupby('video_id').count()\n",
    "v.reset_index(inplace=True)\n",
    "v_norm = (v.hot - v.hot.min()) / (v.hot.max() - v.hot.min())\n",
    "v['video_norm_hot']= v_norm\n",
    "v.rename(columns={'hot':'vid_hotness'}, inplace=True)\n",
    "user_act = pd.merge(user_act,v,on='video_id',how='left')"
   ]
  },
  {
   "cell_type": "code",
   "execution_count": 6,
   "metadata": {},
   "outputs": [
    {
     "data": {
      "text/html": [
       "<div>\n",
       "<style scoped>\n",
       "    .dataframe tbody tr th:only-of-type {\n",
       "        vertical-align: middle;\n",
       "    }\n",
       "\n",
       "    .dataframe tbody tr th {\n",
       "        vertical-align: top;\n",
       "    }\n",
       "\n",
       "    .dataframe thead th {\n",
       "        text-align: right;\n",
       "    }\n",
       "</style>\n",
       "<table border=\"1\" class=\"dataframe\">\n",
       "  <thead>\n",
       "    <tr style=\"text-align: right;\">\n",
       "      <th></th>\n",
       "      <th>user_id</th>\n",
       "      <th>day</th>\n",
       "      <th>page</th>\n",
       "      <th>video_id</th>\n",
       "      <th>author_id</th>\n",
       "      <th>action_type</th>\n",
       "      <th>vid_hotness</th>\n",
       "      <th>video_norm_hot</th>\n",
       "    </tr>\n",
       "  </thead>\n",
       "  <tbody>\n",
       "    <tr>\n",
       "      <th>0</th>\n",
       "      <td>1185527</td>\n",
       "      <td>13</td>\n",
       "      <td>0</td>\n",
       "      <td>2685033</td>\n",
       "      <td>1150188</td>\n",
       "      <td>0</td>\n",
       "      <td>22</td>\n",
       "      <td>0.005730</td>\n",
       "    </tr>\n",
       "    <tr>\n",
       "      <th>1</th>\n",
       "      <td>282033</td>\n",
       "      <td>14</td>\n",
       "      <td>1</td>\n",
       "      <td>331791</td>\n",
       "      <td>400971</td>\n",
       "      <td>0</td>\n",
       "      <td>1</td>\n",
       "      <td>0.000000</td>\n",
       "    </tr>\n",
       "    <tr>\n",
       "      <th>2</th>\n",
       "      <td>209866</td>\n",
       "      <td>15</td>\n",
       "      <td>0</td>\n",
       "      <td>4081958</td>\n",
       "      <td>541368</td>\n",
       "      <td>0</td>\n",
       "      <td>2</td>\n",
       "      <td>0.000273</td>\n",
       "    </tr>\n",
       "    <tr>\n",
       "      <th>3</th>\n",
       "      <td>802521</td>\n",
       "      <td>13</td>\n",
       "      <td>0</td>\n",
       "      <td>4081958</td>\n",
       "      <td>541368</td>\n",
       "      <td>0</td>\n",
       "      <td>2</td>\n",
       "      <td>0.000273</td>\n",
       "    </tr>\n",
       "    <tr>\n",
       "      <th>4</th>\n",
       "      <td>342650</td>\n",
       "      <td>13</td>\n",
       "      <td>0</td>\n",
       "      <td>3705772</td>\n",
       "      <td>1301397</td>\n",
       "      <td>0</td>\n",
       "      <td>1</td>\n",
       "      <td>0.000000</td>\n",
       "    </tr>\n",
       "  </tbody>\n",
       "</table>\n",
       "</div>"
      ],
      "text/plain": [
       "   user_id  day  page  video_id  author_id  action_type  vid_hotness  \\\n",
       "0  1185527   13     0   2685033    1150188            0           22   \n",
       "1   282033   14     1    331791     400971            0            1   \n",
       "2   209866   15     0   4081958     541368            0            2   \n",
       "3   802521   13     0   4081958     541368            0            2   \n",
       "4   342650   13     0   3705772    1301397            0            1   \n",
       "\n",
       "   video_norm_hot  \n",
       "0        0.005730  \n",
       "1        0.000000  \n",
       "2        0.000273  \n",
       "3        0.000273  \n",
       "4        0.000000  "
      ]
     },
     "execution_count": 6,
     "metadata": {},
     "output_type": "execute_result"
    }
   ],
   "source": [
    "user_act.head()"
   ]
  },
  {
   "cell_type": "code",
   "execution_count": 7,
   "metadata": {},
   "outputs": [
    {
     "data": {
      "text/html": [
       "<div>\n",
       "<style scoped>\n",
       "    .dataframe tbody tr th:only-of-type {\n",
       "        vertical-align: middle;\n",
       "    }\n",
       "\n",
       "    .dataframe tbody tr th {\n",
       "        vertical-align: top;\n",
       "    }\n",
       "\n",
       "    .dataframe thead th {\n",
       "        text-align: right;\n",
       "    }\n",
       "</style>\n",
       "<table border=\"1\" class=\"dataframe\">\n",
       "  <thead>\n",
       "    <tr style=\"text-align: right;\">\n",
       "      <th></th>\n",
       "      <th>user_id</th>\n",
       "      <th>day</th>\n",
       "      <th>page</th>\n",
       "      <th>video_id</th>\n",
       "      <th>author_id</th>\n",
       "      <th>action_type</th>\n",
       "      <th>vid_hotness</th>\n",
       "      <th>video_norm_hot</th>\n",
       "      <th>auth_hotness</th>\n",
       "      <th>author_norm_hot</th>\n",
       "    </tr>\n",
       "  </thead>\n",
       "  <tbody>\n",
       "    <tr>\n",
       "      <th>0</th>\n",
       "      <td>1185527</td>\n",
       "      <td>13</td>\n",
       "      <td>0</td>\n",
       "      <td>2685033</td>\n",
       "      <td>1150188</td>\n",
       "      <td>0</td>\n",
       "      <td>22</td>\n",
       "      <td>0.005730</td>\n",
       "      <td>278</td>\n",
       "      <td>0.010029</td>\n",
       "    </tr>\n",
       "    <tr>\n",
       "      <th>1</th>\n",
       "      <td>282033</td>\n",
       "      <td>14</td>\n",
       "      <td>1</td>\n",
       "      <td>331791</td>\n",
       "      <td>400971</td>\n",
       "      <td>0</td>\n",
       "      <td>1</td>\n",
       "      <td>0.000000</td>\n",
       "      <td>153</td>\n",
       "      <td>0.005503</td>\n",
       "    </tr>\n",
       "    <tr>\n",
       "      <th>2</th>\n",
       "      <td>209866</td>\n",
       "      <td>15</td>\n",
       "      <td>0</td>\n",
       "      <td>4081958</td>\n",
       "      <td>541368</td>\n",
       "      <td>0</td>\n",
       "      <td>2</td>\n",
       "      <td>0.000273</td>\n",
       "      <td>2</td>\n",
       "      <td>0.000036</td>\n",
       "    </tr>\n",
       "    <tr>\n",
       "      <th>3</th>\n",
       "      <td>802521</td>\n",
       "      <td>13</td>\n",
       "      <td>0</td>\n",
       "      <td>4081958</td>\n",
       "      <td>541368</td>\n",
       "      <td>0</td>\n",
       "      <td>2</td>\n",
       "      <td>0.000273</td>\n",
       "      <td>2</td>\n",
       "      <td>0.000036</td>\n",
       "    </tr>\n",
       "    <tr>\n",
       "      <th>4</th>\n",
       "      <td>342650</td>\n",
       "      <td>13</td>\n",
       "      <td>0</td>\n",
       "      <td>3705772</td>\n",
       "      <td>1301397</td>\n",
       "      <td>0</td>\n",
       "      <td>1</td>\n",
       "      <td>0.000000</td>\n",
       "      <td>1</td>\n",
       "      <td>0.000000</td>\n",
       "    </tr>\n",
       "  </tbody>\n",
       "</table>\n",
       "</div>"
      ],
      "text/plain": [
       "   user_id  day  page  video_id  author_id  action_type  vid_hotness  \\\n",
       "0  1185527   13     0   2685033    1150188            0           22   \n",
       "1   282033   14     1    331791     400971            0            1   \n",
       "2   209866   15     0   4081958     541368            0            2   \n",
       "3   802521   13     0   4081958     541368            0            2   \n",
       "4   342650   13     0   3705772    1301397            0            1   \n",
       "\n",
       "   video_norm_hot  auth_hotness  author_norm_hot  \n",
       "0        0.005730           278         0.010029  \n",
       "1        0.000000           153         0.005503  \n",
       "2        0.000273             2         0.000036  \n",
       "3        0.000273             2         0.000036  \n",
       "4        0.000000             1         0.000000  "
      ]
     },
     "execution_count": 7,
     "metadata": {},
     "output_type": "execute_result"
    }
   ],
   "source": [
    "aut = pd.DataFrame(user_act.author_id)\n",
    "aut['hot'] = 1\n",
    "a = aut.groupby('author_id').count()\n",
    "a.reset_index(inplace=True)\n",
    "a_norm = (a.hot - a.hot.min()) / (a.hot.max() - a.hot.min())\n",
    "a['author_norm_hot'] = a_norm\n",
    "a.rename(columns={'hot':'auth_hotness'}, inplace=True)\n",
    "user_act = pd.merge(user_act,a,on='author_id',how='left')\n",
    "user_act.to_csv('data/user_activity_log.csv', index=False)\n",
    "user_act.head()"
   ]
  },
  {
   "cell_type": "code",
   "execution_count": 8,
   "metadata": {},
   "outputs": [
    {
     "data": {
      "text/html": [
       "<div>\n",
       "<style scoped>\n",
       "    .dataframe tbody tr th:only-of-type {\n",
       "        vertical-align: middle;\n",
       "    }\n",
       "\n",
       "    .dataframe tbody tr th {\n",
       "        vertical-align: top;\n",
       "    }\n",
       "\n",
       "    .dataframe thead th {\n",
       "        text-align: right;\n",
       "    }\n",
       "</style>\n",
       "<table border=\"1\" class=\"dataframe\">\n",
       "  <thead>\n",
       "    <tr style=\"text-align: right;\">\n",
       "      <th></th>\n",
       "      <th>user_id</th>\n",
       "      <th>hotness_as_creater</th>\n",
       "      <th>norm_hotness_as_creater</th>\n",
       "    </tr>\n",
       "  </thead>\n",
       "  <tbody>\n",
       "    <tr>\n",
       "      <th>0</th>\n",
       "      <td>1</td>\n",
       "      <td>11</td>\n",
       "      <td>0.000362</td>\n",
       "    </tr>\n",
       "    <tr>\n",
       "      <th>1</th>\n",
       "      <td>2</td>\n",
       "      <td>1</td>\n",
       "      <td>0.000000</td>\n",
       "    </tr>\n",
       "    <tr>\n",
       "      <th>2</th>\n",
       "      <td>3</td>\n",
       "      <td>1</td>\n",
       "      <td>0.000000</td>\n",
       "    </tr>\n",
       "    <tr>\n",
       "      <th>3</th>\n",
       "      <td>4</td>\n",
       "      <td>1</td>\n",
       "      <td>0.000000</td>\n",
       "    </tr>\n",
       "    <tr>\n",
       "      <th>4</th>\n",
       "      <td>5</td>\n",
       "      <td>1</td>\n",
       "      <td>0.000000</td>\n",
       "    </tr>\n",
       "  </tbody>\n",
       "</table>\n",
       "</div>"
      ],
      "text/plain": [
       "   user_id  hotness_as_creater  norm_hotness_as_creater\n",
       "0        1                  11                 0.000362\n",
       "1        2                   1                 0.000000\n",
       "2        3                   1                 0.000000\n",
       "3        4                   1                 0.000000\n",
       "4        5                   1                 0.000000"
      ]
     },
     "execution_count": 8,
     "metadata": {},
     "output_type": "execute_result"
    }
   ],
   "source": [
    "a.rename(columns={'auth_hotness':'hotness_as_creater','author_id':'user_id','author_norm_hot':'norm_hotness_as_creater'}, inplace=True)\n",
    "a.head()"
   ]
  },
  {
   "cell_type": "code",
   "execution_count": 9,
   "metadata": {},
   "outputs": [],
   "source": [
    "video = pd.merge(video, a, on='user_id',how='left')\n",
    "video.head()\n",
    "video.to_csv('data/video_create_log.csv',index=False)"
   ]
  },
  {
   "cell_type": "code",
   "execution_count": 10,
   "metadata": {},
   "outputs": [],
   "source": [
    "A_train = 'data/1_data_train_'\n",
    "B_train = 'data/2_data_train_'\n",
    "C_train = 'data/3_data_train_'\n",
    "A_test = 'data/1_data_test_'\n",
    "B_test = 'data/2_data_test_'"
   ]
  },
  {
   "cell_type": "code",
   "execution_count": 11,
   "metadata": {},
   "outputs": [],
   "source": [
    "def cut_data_as_time(new_data_path, begin_day, end_day):\n",
    "    temp_register = user_reg[(user_reg['register_day'] >= 1) & (user_reg['register_day'] <= end_day)]\n",
    "    temp_create = video[(video['day'] >= begin_day) & (video['day'] <= end_day)]\n",
    "    temp_launch = app[(app['day'] >= begin_day) & (app['day'] <= end_day)]\n",
    "    temp_activity = user_act[(user_act['day'] >= begin_day) & (user_act['day'] <= end_day)]\n",
    "    \n",
    "    temp_register.to_csv(new_data_path + \"register.csv\", index = False)\n",
    "    temp_activity.to_csv(new_data_path + \"activity.csv\", index = False)\n",
    "    temp_launch.to_csv(new_data_path + \"launch.csv\", index = False)\n",
    "    temp_create.to_csv(new_data_path + \"create.csv\", index = False)\n",
    "    print('根据起始和结束时间将数据集取出完成,存入:',new_data_path)"
   ]
  },
  {
   "cell_type": "code",
   "execution_count": 12,
   "metadata": {},
   "outputs": [],
   "source": [
    "def generate_dataset():\n",
    "    print('开始划分数据集....')\n",
    "    begin_day = 1\n",
    "    end_day = 16\n",
    "    cut_data_as_time(A_train,begin_day, end_day)\n",
    "    begin_day = 17\n",
    "    end_day = 23\n",
    "    cut_data_as_time(A_test,begin_day, end_day)\n",
    "    print('第一数据集划分完成')\n",
    "    begin_day = 8\n",
    "    end_day = 23\n",
    "    cut_data_as_time(B_train,begin_day, end_day)\n",
    "    begin_day = 24\n",
    "    end_day = 30\n",
    "    cut_data_as_time(B_test,begin_day, end_day)\n",
    "    print('第二数据集划分完成')\n",
    "    begin_day = 15\n",
    "    end_day = 30\n",
    "    cut_data_as_time(C_train,begin_day, end_day)\n",
    "    print('第三数据集划分完成')\n",
    "    print('全部数据集划分完成.....')"
   ]
  },
  {
   "cell_type": "code",
   "execution_count": null,
   "metadata": {},
   "outputs": [],
   "source": []
  },
  {
   "cell_type": "code",
   "execution_count": 13,
   "metadata": {},
   "outputs": [
    {
     "name": "stdout",
     "output_type": "stream",
     "text": [
      "开始划分数据集....\n",
      "根据起始和结束时间将数据集取出完成,存入: data/1_data_train_\n",
      "根据起始和结束时间将数据集取出完成,存入: data/1_data_test_\n",
      "第一数据集划分完成\n",
      "根据起始和结束时间将数据集取出完成,存入: data/2_data_train_\n",
      "根据起始和结束时间将数据集取出完成,存入: data/2_data_test_\n",
      "第二数据集划分完成\n",
      "根据起始和结束时间将数据集取出完成,存入: data/3_data_train_\n",
      "第三数据集划分完成\n",
      "全部数据集划分完成.....\n"
     ]
    }
   ],
   "source": [
    "generate_dataset()"
   ]
  },
  {
   "cell_type": "code",
   "execution_count": 14,
   "metadata": {},
   "outputs": [
    {
     "data": {
      "text/html": [
       "<div>\n",
       "<style scoped>\n",
       "    .dataframe tbody tr th:only-of-type {\n",
       "        vertical-align: middle;\n",
       "    }\n",
       "\n",
       "    .dataframe tbody tr th {\n",
       "        vertical-align: top;\n",
       "    }\n",
       "\n",
       "    .dataframe thead th {\n",
       "        text-align: right;\n",
       "    }\n",
       "</style>\n",
       "<table border=\"1\" class=\"dataframe\">\n",
       "  <thead>\n",
       "    <tr style=\"text-align: right;\">\n",
       "      <th></th>\n",
       "      <th>user_id</th>\n",
       "      <th>day</th>\n",
       "      <th>hotness_as_creater</th>\n",
       "      <th>norm_hotness_as_creater</th>\n",
       "    </tr>\n",
       "  </thead>\n",
       "  <tbody>\n",
       "    <tr>\n",
       "      <th>0</th>\n",
       "      <td>123785</td>\n",
       "      <td>6</td>\n",
       "      <td>56.0</td>\n",
       "      <td>0.001991</td>\n",
       "    </tr>\n",
       "    <tr>\n",
       "      <th>1</th>\n",
       "      <td>123785</td>\n",
       "      <td>5</td>\n",
       "      <td>56.0</td>\n",
       "      <td>0.001991</td>\n",
       "    </tr>\n",
       "    <tr>\n",
       "      <th>2</th>\n",
       "      <td>123785</td>\n",
       "      <td>8</td>\n",
       "      <td>56.0</td>\n",
       "      <td>0.001991</td>\n",
       "    </tr>\n",
       "    <tr>\n",
       "      <th>3</th>\n",
       "      <td>123785</td>\n",
       "      <td>5</td>\n",
       "      <td>56.0</td>\n",
       "      <td>0.001991</td>\n",
       "    </tr>\n",
       "    <tr>\n",
       "      <th>4</th>\n",
       "      <td>123785</td>\n",
       "      <td>5</td>\n",
       "      <td>56.0</td>\n",
       "      <td>0.001991</td>\n",
       "    </tr>\n",
       "  </tbody>\n",
       "</table>\n",
       "</div>"
      ],
      "text/plain": [
       "   user_id  day  hotness_as_creater  norm_hotness_as_creater\n",
       "0   123785    6                56.0                 0.001991\n",
       "1   123785    5                56.0                 0.001991\n",
       "2   123785    8                56.0                 0.001991\n",
       "3   123785    5                56.0                 0.001991\n",
       "4   123785    5                56.0                 0.001991"
      ]
     },
     "execution_count": 14,
     "metadata": {},
     "output_type": "execute_result"
    }
   ],
   "source": [
    "video.head()"
   ]
  },
  {
   "cell_type": "code",
   "execution_count": 15,
   "metadata": {},
   "outputs": [
    {
     "data": {
      "text/html": [
       "<div>\n",
       "<style scoped>\n",
       "    .dataframe tbody tr th:only-of-type {\n",
       "        vertical-align: middle;\n",
       "    }\n",
       "\n",
       "    .dataframe tbody tr th {\n",
       "        vertical-align: top;\n",
       "    }\n",
       "\n",
       "    .dataframe thead th {\n",
       "        text-align: right;\n",
       "    }\n",
       "</style>\n",
       "<table border=\"1\" class=\"dataframe\">\n",
       "  <thead>\n",
       "    <tr style=\"text-align: right;\">\n",
       "      <th></th>\n",
       "      <th>user_id</th>\n",
       "      <th>day</th>\n",
       "      <th>page</th>\n",
       "      <th>video_id</th>\n",
       "      <th>author_id</th>\n",
       "      <th>action_type</th>\n",
       "      <th>vid_hotness</th>\n",
       "      <th>video_norm_hot</th>\n",
       "      <th>auth_hotness</th>\n",
       "      <th>author_norm_hot</th>\n",
       "    </tr>\n",
       "  </thead>\n",
       "  <tbody>\n",
       "    <tr>\n",
       "      <th>21072398</th>\n",
       "      <td>592563</td>\n",
       "      <td>30</td>\n",
       "      <td>2</td>\n",
       "      <td>1773916</td>\n",
       "      <td>209552</td>\n",
       "      <td>0</td>\n",
       "      <td>2</td>\n",
       "      <td>0.000273</td>\n",
       "      <td>4</td>\n",
       "      <td>0.000109</td>\n",
       "    </tr>\n",
       "    <tr>\n",
       "      <th>21072399</th>\n",
       "      <td>592563</td>\n",
       "      <td>30</td>\n",
       "      <td>2</td>\n",
       "      <td>1773916</td>\n",
       "      <td>209552</td>\n",
       "      <td>0</td>\n",
       "      <td>2</td>\n",
       "      <td>0.000273</td>\n",
       "      <td>4</td>\n",
       "      <td>0.000109</td>\n",
       "    </tr>\n",
       "    <tr>\n",
       "      <th>21072400</th>\n",
       "      <td>214058</td>\n",
       "      <td>30</td>\n",
       "      <td>1</td>\n",
       "      <td>450181</td>\n",
       "      <td>321228</td>\n",
       "      <td>0</td>\n",
       "      <td>1</td>\n",
       "      <td>0.000000</td>\n",
       "      <td>1</td>\n",
       "      <td>0.000000</td>\n",
       "    </tr>\n",
       "    <tr>\n",
       "      <th>21072401</th>\n",
       "      <td>19193</td>\n",
       "      <td>30</td>\n",
       "      <td>1</td>\n",
       "      <td>3180222</td>\n",
       "      <td>437030</td>\n",
       "      <td>0</td>\n",
       "      <td>2</td>\n",
       "      <td>0.000273</td>\n",
       "      <td>83</td>\n",
       "      <td>0.002969</td>\n",
       "    </tr>\n",
       "    <tr>\n",
       "      <th>21072402</th>\n",
       "      <td>19193</td>\n",
       "      <td>30</td>\n",
       "      <td>1</td>\n",
       "      <td>3180222</td>\n",
       "      <td>437030</td>\n",
       "      <td>1</td>\n",
       "      <td>2</td>\n",
       "      <td>0.000273</td>\n",
       "      <td>83</td>\n",
       "      <td>0.002969</td>\n",
       "    </tr>\n",
       "  </tbody>\n",
       "</table>\n",
       "</div>"
      ],
      "text/plain": [
       "          user_id  day  page  video_id  author_id  action_type  vid_hotness  \\\n",
       "21072398   592563   30     2   1773916     209552            0            2   \n",
       "21072399   592563   30     2   1773916     209552            0            2   \n",
       "21072400   214058   30     1    450181     321228            0            1   \n",
       "21072401    19193   30     1   3180222     437030            0            2   \n",
       "21072402    19193   30     1   3180222     437030            1            2   \n",
       "\n",
       "          video_norm_hot  auth_hotness  author_norm_hot  \n",
       "21072398        0.000273             4         0.000109  \n",
       "21072399        0.000273             4         0.000109  \n",
       "21072400        0.000000             1         0.000000  \n",
       "21072401        0.000273            83         0.002969  \n",
       "21072402        0.000273            83         0.002969  "
      ]
     },
     "execution_count": 15,
     "metadata": {},
     "output_type": "execute_result"
    }
   ],
   "source": [
    "user_act.tail()"
   ]
  },
  {
   "cell_type": "code",
   "execution_count": 16,
   "metadata": {},
   "outputs": [
    {
     "data": {
      "text/plain": [
       "1383751"
      ]
     },
     "execution_count": 16,
     "metadata": {},
     "output_type": "execute_result"
    }
   ],
   "source": [
    "user_act.author_id.max()"
   ]
  },
  {
   "cell_type": "code",
   "execution_count": 14,
   "metadata": {},
   "outputs": [
    {
     "data": {
      "text/plain": [
       "user_id    1367473\n",
       "day             30\n",
       "dtype: int64"
      ]
     },
     "execution_count": 14,
     "metadata": {},
     "output_type": "execute_result"
    }
   ],
   "source": [
    "video.max()"
   ]
  },
  {
   "cell_type": "code",
   "execution_count": 17,
   "metadata": {},
   "outputs": [],
   "source": [
    "a = pd.read_csv('data/1_data_train_register.csv')\n",
    "b = pd.read_csv('data/2_data_train_register.csv')\n",
    "c = pd.read_csv('data/3_data_train_register.csv')"
   ]
  },
  {
   "cell_type": "code",
   "execution_count": 22,
   "metadata": {},
   "outputs": [
    {
     "data": {
      "text/plain": [
       "<matplotlib.axes._subplots.AxesSubplot at 0x7fcf2ae53518>"
      ]
     },
     "execution_count": 22,
     "metadata": {},
     "output_type": "execute_result"
    }
   ],
   "source": [
    "a.plot()"
   ]
  },
  {
   "cell_type": "code",
   "execution_count": 49,
   "metadata": {},
   "outputs": [
    {
     "data": {
      "text/html": [
       "<div>\n",
       "<style scoped>\n",
       "    .dataframe tbody tr th:only-of-type {\n",
       "        vertical-align: middle;\n",
       "    }\n",
       "\n",
       "    .dataframe tbody tr th {\n",
       "        vertical-align: top;\n",
       "    }\n",
       "\n",
       "    .dataframe thead th {\n",
       "        text-align: right;\n",
       "    }\n",
       "</style>\n",
       "<table border=\"1\" class=\"dataframe\">\n",
       "  <thead>\n",
       "    <tr style=\"text-align: right;\">\n",
       "      <th></th>\n",
       "      <th>user_id</th>\n",
       "      <th>day</th>\n",
       "      <th>index</th>\n",
       "      <th>hotness_as_creater</th>\n",
       "    </tr>\n",
       "  </thead>\n",
       "  <tbody>\n",
       "    <tr>\n",
       "      <th>0</th>\n",
       "      <td>720497</td>\n",
       "      <td>1</td>\n",
       "      <td>696685.0</td>\n",
       "      <td>0.028227</td>\n",
       "    </tr>\n",
       "    <tr>\n",
       "      <th>1</th>\n",
       "      <td>720497</td>\n",
       "      <td>1</td>\n",
       "      <td>696685.0</td>\n",
       "      <td>0.028227</td>\n",
       "    </tr>\n",
       "    <tr>\n",
       "      <th>2</th>\n",
       "      <td>720497</td>\n",
       "      <td>1</td>\n",
       "      <td>696685.0</td>\n",
       "      <td>0.028227</td>\n",
       "    </tr>\n",
       "    <tr>\n",
       "      <th>3</th>\n",
       "      <td>1075211</td>\n",
       "      <td>6</td>\n",
       "      <td>1039739.0</td>\n",
       "      <td>2.575683</td>\n",
       "    </tr>\n",
       "    <tr>\n",
       "      <th>4</th>\n",
       "      <td>1075211</td>\n",
       "      <td>12</td>\n",
       "      <td>1039739.0</td>\n",
       "      <td>2.575683</td>\n",
       "    </tr>\n",
       "  </tbody>\n",
       "</table>\n",
       "</div>"
      ],
      "text/plain": [
       "   user_id  day      index  hotness_as_creater\n",
       "0   720497    1   696685.0            0.028227\n",
       "1   720497    1   696685.0            0.028227\n",
       "2   720497    1   696685.0            0.028227\n",
       "3  1075211    6  1039739.0            2.575683\n",
       "4  1075211   12  1039739.0            2.575683"
      ]
     },
     "execution_count": 49,
     "metadata": {},
     "output_type": "execute_result"
    }
   ],
   "source": [
    "video.head()"
   ]
  },
  {
   "cell_type": "code",
   "execution_count": 42,
   "metadata": {},
   "outputs": [
    {
     "data": {
      "text/html": [
       "<div>\n",
       "<style scoped>\n",
       "    .dataframe tbody tr th:only-of-type {\n",
       "        vertical-align: middle;\n",
       "    }\n",
       "\n",
       "    .dataframe tbody tr th {\n",
       "        vertical-align: top;\n",
       "    }\n",
       "\n",
       "    .dataframe thead th {\n",
       "        text-align: right;\n",
       "    }\n",
       "</style>\n",
       "<table border=\"1\" class=\"dataframe\">\n",
       "  <thead>\n",
       "    <tr style=\"text-align: right;\">\n",
       "      <th></th>\n",
       "      <th>index</th>\n",
       "      <th>user_id</th>\n",
       "      <th>hotness_as_creater</th>\n",
       "    </tr>\n",
       "  </thead>\n",
       "  <tbody>\n",
       "    <tr>\n",
       "      <th>0</th>\n",
       "      <td>0</td>\n",
       "      <td>1</td>\n",
       "      <td>0.000000</td>\n",
       "    </tr>\n",
       "    <tr>\n",
       "      <th>1</th>\n",
       "      <td>1</td>\n",
       "      <td>2</td>\n",
       "      <td>0.000000</td>\n",
       "    </tr>\n",
       "    <tr>\n",
       "      <th>2</th>\n",
       "      <td>2</td>\n",
       "      <td>3</td>\n",
       "      <td>0.000000</td>\n",
       "    </tr>\n",
       "    <tr>\n",
       "      <th>3</th>\n",
       "      <td>3</td>\n",
       "      <td>4</td>\n",
       "      <td>0.028227</td>\n",
       "    </tr>\n",
       "    <tr>\n",
       "      <th>4</th>\n",
       "      <td>4</td>\n",
       "      <td>5</td>\n",
       "      <td>0.000000</td>\n",
       "    </tr>\n",
       "  </tbody>\n",
       "</table>\n",
       "</div>"
      ],
      "text/plain": [
       "   index  user_id  hotness_as_creater\n",
       "0      0        1            0.000000\n",
       "1      1        2            0.000000\n",
       "2      2        3            0.000000\n",
       "3      3        4            0.028227\n",
       "4      4        5            0.000000"
      ]
     },
     "execution_count": 42,
     "metadata": {},
     "output_type": "execute_result"
    }
   ],
   "source": [
    "a.head()"
   ]
  },
  {
   "cell_type": "code",
   "execution_count": 23,
   "metadata": {},
   "outputs": [],
   "source": [
    "us = user_reg.user_id.drop_duplicates()"
   ]
  },
  {
   "cell_type": "code",
   "execution_count": 25,
   "metadata": {},
   "outputs": [],
   "source": [
    "us.to_csv(\"result/full.csv\",index=False)"
   ]
  },
  {
   "cell_type": "code",
   "execution_count": 29,
   "metadata": {},
   "outputs": [
    {
     "data": {
      "text/plain": [
       "51480"
      ]
     },
     "execution_count": 29,
     "metadata": {},
     "output_type": "execute_result"
    }
   ],
   "source": [
    "len(us)"
   ]
  },
  {
   "cell_type": "code",
   "execution_count": null,
   "metadata": {},
   "outputs": [],
   "source": []
  }
 ],
 "metadata": {
  "kernelspec": {
   "display_name": "Python 3",
   "language": "python",
   "name": "python3"
  },
  "language_info": {
   "codemirror_mode": {
    "name": "ipython",
    "version": 3
   },
   "file_extension": ".py",
   "mimetype": "text/x-python",
   "name": "python",
   "nbconvert_exporter": "python",
   "pygments_lexer": "ipython3",
   "version": "3.6.4"
  }
 },
 "nbformat": 4,
 "nbformat_minor": 2
}
