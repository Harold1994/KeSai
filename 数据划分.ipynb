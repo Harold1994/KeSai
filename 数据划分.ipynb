{
 "cells": [
  {
   "cell_type": "code",
   "execution_count": 27,
   "metadata": {},
   "outputs": [],
   "source": [
    "import numpy as np\n",
    "import pandas as pd\n",
    "from pandas import DataFrame"
   ]
  },
  {
   "cell_type": "code",
   "execution_count": 28,
   "metadata": {},
   "outputs": [],
   "source": [
    "path =\"data/\"\n",
    "app = pd.read_table(path+'app_launch_log.txt',names=['user_id','day'],encoding='utf-8',sep='\\t',)\n",
    "user_act = pd.read_table(path+'user_activity_log.txt',names=['user_id','day','page','video_id','author_id','action_type'],encoding='utf-8',sep='\\t')\n",
    "user_reg = pd.read_table(path+'user_register_log.txt',names=['user_id','register_day','register_type','device_type'],encoding='utf-8',sep='\\t')\n",
    "vedio = pd.read_table(path+'video_create_log.txt',names=['user_id','day'],encoding='utf-8',sep='\\t')"
   ]
  },
  {
   "cell_type": "code",
   "execution_count": 29,
   "metadata": {},
   "outputs": [],
   "source": [
    "app.to_csv('data/app_lauch_log.csv',index=False)\n",
    "user_act.to_csv('data/user_activity_log.csv',index=False)\n",
    "user_reg.to_csv('data/user_register_log.csv',index=False)\n",
    "vedio.to_csv('data/video_create_log.csv',index=False)"
   ]
  },
  {
   "cell_type": "code",
   "execution_count": 30,
   "metadata": {},
   "outputs": [],
   "source": [
    "app = pd.read_csv('data/app_lauch_log.csv')\n",
    "user_act = pd.read_csv('data/user_activity_log.csv')\n",
    "user_reg = pd.read_csv('data/user_register_log.csv')\n",
    "vedio = pd.read_csv('data/video_create_log.csv')"
   ]
  },
  {
   "cell_type": "code",
   "execution_count": 33,
   "metadata": {},
   "outputs": [
    {
     "data": {
      "text/html": [
       "<div>\n",
       "<style scoped>\n",
       "    .dataframe tbody tr th:only-of-type {\n",
       "        vertical-align: middle;\n",
       "    }\n",
       "\n",
       "    .dataframe tbody tr th {\n",
       "        vertical-align: top;\n",
       "    }\n",
       "\n",
       "    .dataframe thead th {\n",
       "        text-align: right;\n",
       "    }\n",
       "</style>\n",
       "<table border=\"1\" class=\"dataframe\">\n",
       "  <thead>\n",
       "    <tr style=\"text-align: right;\">\n",
       "      <th></th>\n",
       "      <th>user_id</th>\n",
       "      <th>day</th>\n",
       "    </tr>\n",
       "  </thead>\n",
       "  <tbody>\n",
       "    <tr>\n",
       "      <th>count</th>\n",
       "      <td>3.515100e+04</td>\n",
       "      <td>35151.000000</td>\n",
       "    </tr>\n",
       "    <tr>\n",
       "      <th>mean</th>\n",
       "      <td>6.848656e+05</td>\n",
       "      <td>19.313021</td>\n",
       "    </tr>\n",
       "    <tr>\n",
       "      <th>std</th>\n",
       "      <td>3.947289e+05</td>\n",
       "      <td>7.766421</td>\n",
       "    </tr>\n",
       "    <tr>\n",
       "      <th>min</th>\n",
       "      <td>9.800000e+01</td>\n",
       "      <td>1.000000</td>\n",
       "    </tr>\n",
       "    <tr>\n",
       "      <th>25%</th>\n",
       "      <td>3.430240e+05</td>\n",
       "      <td>14.000000</td>\n",
       "    </tr>\n",
       "    <tr>\n",
       "      <th>50%</th>\n",
       "      <td>6.860610e+05</td>\n",
       "      <td>21.000000</td>\n",
       "    </tr>\n",
       "    <tr>\n",
       "      <th>75%</th>\n",
       "      <td>1.021778e+06</td>\n",
       "      <td>26.000000</td>\n",
       "    </tr>\n",
       "    <tr>\n",
       "      <th>max</th>\n",
       "      <td>1.367473e+06</td>\n",
       "      <td>30.000000</td>\n",
       "    </tr>\n",
       "  </tbody>\n",
       "</table>\n",
       "</div>"
      ],
      "text/plain": [
       "            user_id           day\n",
       "count  3.515100e+04  35151.000000\n",
       "mean   6.848656e+05     19.313021\n",
       "std    3.947289e+05      7.766421\n",
       "min    9.800000e+01      1.000000\n",
       "25%    3.430240e+05     14.000000\n",
       "50%    6.860610e+05     21.000000\n",
       "75%    1.021778e+06     26.000000\n",
       "max    1.367473e+06     30.000000"
      ]
     },
     "execution_count": 33,
     "metadata": {},
     "output_type": "execute_result"
    }
   ],
   "source": [
    "vedio.describe()"
   ]
  },
  {
   "cell_type": "code",
   "execution_count": 34,
   "metadata": {},
   "outputs": [
    {
     "name": "stdout",
     "output_type": "stream",
     "text": [
      "<class 'pandas.core.frame.DataFrame'>\n",
      "RangeIndex: 35151 entries, 0 to 35150\n",
      "Data columns (total 2 columns):\n",
      "user_id    35151 non-null int64\n",
      "day        35151 non-null int64\n",
      "dtypes: int64(2)\n",
      "memory usage: 549.3 KB\n"
     ]
    }
   ],
   "source": [
    "vedio.info()"
   ]
  },
  {
   "cell_type": "code",
   "execution_count": 35,
   "metadata": {},
   "outputs": [],
   "source": [
    "one_train_path = 'data/one_data_train_'\n",
    "two_train_path = 'data/two_data_train_'\n",
    "three_train_path = 'data/three_data_train_'\n",
    "one_test_path = 'data/one_data_test_'\n",
    "two_test_path = 'data/two_data_test_'"
   ]
  },
  {
   "cell_type": "code",
   "execution_count": 36,
   "metadata": {},
   "outputs": [],
   "source": [
    "def cut_data_as_time(new_data_path, begin_day, end_day):\n",
    "    temp_register = user_reg[(user_reg['register_day'] >= begin_day) & (user_reg['register_day'] <= end_day)]\n",
    "    temp_create = vedio[(vedio['day'] >= begin_day) & (vedio['day'] <= end_day)]\n",
    "    temp_launch = app[(app['day'] >= begin_day) & (app['day'] <= end_day)]\n",
    "    temp_activity = user_act[(user_act['day'] >= begin_day) & (user_act['day'] <= end_day)]\n",
    "    \n",
    "    temp_register.to_csv(new_data_path + \"register.csv\", index = False)\n",
    "    temp_activity.to_csv(new_data_path + \"activity.csv\", index = False)\n",
    "    temp_launch.to_csv(new_data_path + \"launch.csv\", index = False)\n",
    "    temp_create.to_csv(new_data_path + \"create.csv\", index = False)\n",
    "    print('根据起始和结束时间将数据集取出完成,存入:',new_data_path)"
   ]
  },
  {
   "cell_type": "code",
   "execution_count": 37,
   "metadata": {},
   "outputs": [],
   "source": [
    "def generate_dataset():\n",
    "    print('开始划分数据集....')\n",
    "    begin_day = 1\n",
    "    end_day = 16\n",
    "    cut_data_as_time(one_train_path,begin_day, end_day)\n",
    "    begin_day = 17\n",
    "    end_day = 23\n",
    "    cut_data_as_time(one_test_path,begin_day, end_day)\n",
    "    print('第一数据集划分完成')\n",
    "    begin_day = 8\n",
    "    end_day = 23\n",
    "    cut_data_as_time(two_train_path,begin_day, end_day)\n",
    "    begin_day = 24\n",
    "    end_day = 30\n",
    "    cut_data_as_time(two_test_path,begin_day, end_day)\n",
    "    print('第二数据集划分完成')\n",
    "    begin_day = 15\n",
    "    end_day = 30\n",
    "    cut_data_as_time(three_train_path,begin_day, end_day)\n",
    "    print('第二数据集划分完成')\n",
    "    print('全部数据集划分完成.....')"
   ]
  },
  {
   "cell_type": "code",
   "execution_count": 38,
   "metadata": {},
   "outputs": [
    {
     "name": "stdout",
     "output_type": "stream",
     "text": [
      "开始划分数据集....\n",
      "根据起始和结束时间将数据集取出完成,存入: data/one_data_train_\n",
      "根据起始和结束时间将数据集取出完成,存入: data/one_data_test_\n",
      "第一数据集划分完成\n",
      "根据起始和结束时间将数据集取出完成,存入: data/two_data_train_\n",
      "根据起始和结束时间将数据集取出完成,存入: data/two_data_test_\n",
      "第二数据集划分完成\n",
      "根据起始和结束时间将数据集取出完成,存入: data/three_data_train_\n",
      "第二数据集划分完成\n",
      "全部数据集划分完成.....\n"
     ]
    }
   ],
   "source": [
    "generate_dataset()"
   ]
  },
  {
   "cell_type": "code",
   "execution_count": null,
   "metadata": {},
   "outputs": [],
   "source": []
  }
 ],
 "metadata": {
  "kernelspec": {
   "display_name": "Python 3",
   "language": "python",
   "name": "python3"
  },
  "language_info": {
   "codemirror_mode": {
    "name": "ipython",
    "version": 3
   },
   "file_extension": ".py",
   "mimetype": "text/x-python",
   "name": "python",
   "nbconvert_exporter": "python",
   "pygments_lexer": "ipython3",
   "version": "3.6.4"
  }
 },
 "nbformat": 4,
 "nbformat_minor": 2
}
