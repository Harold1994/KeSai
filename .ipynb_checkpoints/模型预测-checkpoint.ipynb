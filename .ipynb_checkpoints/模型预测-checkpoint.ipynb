{
 "cells": [
  {
   "cell_type": "code",
   "execution_count": 49,
   "metadata": {},
   "outputs": [],
   "source": [
    "import pandas as pd\n",
    "from sklearn import model_selection\n",
    "import numpy as np\n",
    "import sklearn.metrics\n",
    "from sklearn.model_selection import train_test_split  \n",
    "import lightgbm as lgb"
   ]
  },
  {
   "cell_type": "code",
   "execution_count": 50,
   "metadata": {},
   "outputs": [
    {
     "name": "stdout",
     "output_type": "stream",
     "text": [
      "开始处理特征...\n",
      "['create_day_mean' 'create_day_max' 'last_day_cut_max_day' 'launch_count'\n",
      " 'launch_day_mean' 'launch_day_max' 'launch_day_min' 'launch_day_std'\n",
      " 'launch_day_cut_max_day' 'create_sub_register_y' 'activity_count'\n",
      " 'activity_day_mean' 'activity_day_max' 'activity_day_min'\n",
      " 'activity_day_std' 'activity_day_var' 'activity_day_ske'\n",
      " 'activity_day_cut_max_day' '0_page_count' '1_page_count' '2_page_count'\n",
      " '3_page_count' '0_page_count_div_sum' '1_page_count_div_sum'\n",
      " '2_page_count_div_sum' '3_page_count_div_sum' '4_page_count_div_sum'\n",
      " '0_action_count' '1_action_count' '0_action_count_div_sum'\n",
      " '1_action_count_div_sum' '2_action_count_div_sum'\n",
      " '3_action_count_div_sum' 'max_act_times_per_day']\n"
     ]
    }
   ],
   "source": [
    "print('开始处理特征...')\n",
    "train_path = 'data/train_and_test/train.csv'\n",
    "test_path = 'data/train_and_test/test.csv'\n",
    "train = pd.read_csv(train_path)\n",
    "test = pd.read_csv(test_path)\n",
    "used_feature = ['create_count', 'create_day_mean', 'create_day_max',\n",
    "       'create_day_min', 'create_day_std', 'create_day_var',\n",
    "       'last_day_cut_max_day', 'create_sub_register_x',\n",
    "       'max_create_times_per_day', 'device_type', 'register_type',\n",
    "       'register_day_cut_max_day', 'launch_count', 'launch_day_mean',\n",
    "       'launch_day_max', 'launch_day_min', 'launch_day_std', 'launch_day_var',\n",
    "       'launch_day_cut_max_day', 'create_sub_register_y',\n",
    "       'max_launch_times_per_day', 'activity_count', 'activity_day_mean',\n",
    "       'activity_day_max', 'activity_day_min', 'activity_day_std',\n",
    "       'activity_day_var', 'activity_day_ske', 'activity_day_kur',\n",
    "       'activity_day_cut_max_day', 'create_sub_register', '0_page_count',\n",
    "       '1_page_count', '2_page_count', '3_page_count', '4_page_count',\n",
    "       '0_page_count_div_sum', '1_page_count_div_sum', '2_page_count_div_sum',\n",
    "       '3_page_count_div_sum', '4_page_count_div_sum', '0_action_count',\n",
    "       '1_action_count', '2_action_count', '3_action_count', '4_action_count',\n",
    "       '5_action_count', '0_action_count_div_sum', '1_action_count_div_sum',\n",
    "       '2_action_count_div_sum', '3_action_count_div_sum',\n",
    "       '4_action_count_div_sum', '5_action_count_div_sum',\n",
    "       'max_act_times_per_day', 'watch_self']\n",
    "used_feature = np.array(used_feature)\n",
    "importance_feature =[1, 2, 6, 12, 13, 14, 15, 16, 18, 19, 21, 22, 23, 24, 25, 26, 27, 29, 31, 32, 33, 34, 36, 37, 38, 39, 40, 41, 42, 47, 48, 49, 50, 53]\n",
    "used_feature = used_feature[np.array(importance_feature)]\n",
    "print(used_feature)\n",
    "train_feature = train[used_feature]\n",
    "test_feature = test[used_feature]\n",
    "label = train['label']\n",
    "X_train, X_test, Y_train, Y_test = model_selection.train_test_split(train_feature, label, test_size=0.3,random_state=1015)\n"
   ]
  },
  {
   "cell_type": "code",
   "execution_count": 54,
   "metadata": {},
   "outputs": [
    {
     "name": "stdout",
     "output_type": "stream",
     "text": [
      "载入数据......\n",
      "开始训练......\n",
      "[1]\tvalid_0's auc: 0.873569\tvalid_0's binary_logloss: 0.651773\n",
      "[2]\tvalid_0's auc: 0.875671\tvalid_0's binary_logloss: 0.618282\n",
      "[3]\tvalid_0's auc: 0.877281\tvalid_0's binary_logloss: 0.590507\n",
      "[4]\tvalid_0's auc: 0.878206\tvalid_0's binary_logloss: 0.567305\n",
      "[5]\tvalid_0's auc: 0.878499\tvalid_0's binary_logloss: 0.547681\n",
      "[6]\tvalid_0's auc: 0.8794\tvalid_0's binary_logloss: 0.530993\n",
      "[7]\tvalid_0's auc: 0.879908\tvalid_0's binary_logloss: 0.516723\n",
      "[8]\tvalid_0's auc: 0.880262\tvalid_0's binary_logloss: 0.504558\n",
      "[9]\tvalid_0's auc: 0.880499\tvalid_0's binary_logloss: 0.494112\n",
      "[10]\tvalid_0's auc: 0.880633\tvalid_0's binary_logloss: 0.485237\n",
      "[11]\tvalid_0's auc: 0.880775\tvalid_0's binary_logloss: 0.477605\n",
      "[12]\tvalid_0's auc: 0.881218\tvalid_0's binary_logloss: 0.470732\n",
      "[13]\tvalid_0's auc: 0.881438\tvalid_0's binary_logloss: 0.46508\n",
      "[14]\tvalid_0's auc: 0.881766\tvalid_0's binary_logloss: 0.459967\n",
      "[15]\tvalid_0's auc: 0.881921\tvalid_0's binary_logloss: 0.45557\n",
      "[16]\tvalid_0's auc: 0.882083\tvalid_0's binary_logloss: 0.45176\n",
      "[17]\tvalid_0's auc: 0.88232\tvalid_0's binary_logloss: 0.448472\n",
      "[18]\tvalid_0's auc: 0.882456\tvalid_0's binary_logloss: 0.445588\n",
      "[19]\tvalid_0's auc: 0.882658\tvalid_0's binary_logloss: 0.443043\n",
      "[20]\tvalid_0's auc: 0.882946\tvalid_0's binary_logloss: 0.440753\n",
      "[21]\tvalid_0's auc: 0.883152\tvalid_0's binary_logloss: 0.43873\n",
      "[22]\tvalid_0's auc: 0.883404\tvalid_0's binary_logloss: 0.436881\n",
      "[23]\tvalid_0's auc: 0.883606\tvalid_0's binary_logloss: 0.435271\n",
      "[24]\tvalid_0's auc: 0.883846\tvalid_0's binary_logloss: 0.433789\n",
      "[25]\tvalid_0's auc: 0.883992\tvalid_0's binary_logloss: 0.432598\n",
      "[26]\tvalid_0's auc: 0.884217\tvalid_0's binary_logloss: 0.431393\n",
      "[27]\tvalid_0's auc: 0.884406\tvalid_0's binary_logloss: 0.430346\n",
      "[28]\tvalid_0's auc: 0.884593\tvalid_0's binary_logloss: 0.429371\n",
      "[29]\tvalid_0's auc: 0.884795\tvalid_0's binary_logloss: 0.428465\n",
      "[30]\tvalid_0's auc: 0.885015\tvalid_0's binary_logloss: 0.427641\n",
      "[31]\tvalid_0's auc: 0.885208\tvalid_0's binary_logloss: 0.42692\n",
      "[32]\tvalid_0's auc: 0.885424\tvalid_0's binary_logloss: 0.426114\n",
      "[33]\tvalid_0's auc: 0.885599\tvalid_0's binary_logloss: 0.425442\n",
      "[34]\tvalid_0's auc: 0.885761\tvalid_0's binary_logloss: 0.424837\n",
      "[35]\tvalid_0's auc: 0.885924\tvalid_0's binary_logloss: 0.424246\n",
      "[36]\tvalid_0's auc: 0.886178\tvalid_0's binary_logloss: 0.423601\n",
      "[37]\tvalid_0's auc: 0.886339\tvalid_0's binary_logloss: 0.423077\n",
      "[38]\tvalid_0's auc: 0.886523\tvalid_0's binary_logloss: 0.422517\n",
      "[39]\tvalid_0's auc: 0.886725\tvalid_0's binary_logloss: 0.422031\n",
      "[40]\tvalid_0's auc: 0.886935\tvalid_0's binary_logloss: 0.42152\n",
      "[41]\tvalid_0's auc: 0.887182\tvalid_0's binary_logloss: 0.421027\n",
      "[42]\tvalid_0's auc: 0.887346\tvalid_0's binary_logloss: 0.420631\n",
      "[43]\tvalid_0's auc: 0.887525\tvalid_0's binary_logloss: 0.42015\n",
      "[44]\tvalid_0's auc: 0.887725\tvalid_0's binary_logloss: 0.419723\n",
      "[45]\tvalid_0's auc: 0.887937\tvalid_0's binary_logloss: 0.419301\n",
      "[46]\tvalid_0's auc: 0.888168\tvalid_0's binary_logloss: 0.418824\n",
      "[47]\tvalid_0's auc: 0.888322\tvalid_0's binary_logloss: 0.418444\n",
      "[48]\tvalid_0's auc: 0.888541\tvalid_0's binary_logloss: 0.41804\n",
      "[49]\tvalid_0's auc: 0.888724\tvalid_0's binary_logloss: 0.417688\n",
      "[50]\tvalid_0's auc: 0.88891\tvalid_0's binary_logloss: 0.417228\n",
      "[51]\tvalid_0's auc: 0.88912\tvalid_0's binary_logloss: 0.416836\n",
      "[52]\tvalid_0's auc: 0.889261\tvalid_0's binary_logloss: 0.41652\n",
      "[53]\tvalid_0's auc: 0.889441\tvalid_0's binary_logloss: 0.41616\n",
      "[54]\tvalid_0's auc: 0.889643\tvalid_0's binary_logloss: 0.415805\n",
      "[55]\tvalid_0's auc: 0.88984\tvalid_0's binary_logloss: 0.415488\n",
      "[56]\tvalid_0's auc: 0.890043\tvalid_0's binary_logloss: 0.415094\n",
      "[57]\tvalid_0's auc: 0.890269\tvalid_0's binary_logloss: 0.414645\n",
      "[58]\tvalid_0's auc: 0.890414\tvalid_0's binary_logloss: 0.414276\n",
      "结果：0.8177129060579456\n",
      "特征重要性：[30, 18, 23, 136, 20, 29, 14, 144, 188, 13, 63, 31, 37, 20, 59, 21, 83, 40, 39, 60, 46, 39, 56, 62, 29, 56, 35, 91, 21, 49, 53, 43, 35, 57]\n"
     ]
    }
   ],
   "source": [
    "print('载入数据......')\n",
    "lgb_train = lgb.Dataset(train_feature, label)\n",
    "lgb_eval = lgb.Dataset(X_test, Y_test, reference=lgb_train)\n",
    "\n",
    "\n",
    "print('开始训练......')\n",
    "params = {\n",
    "    'task': 'train',\n",
    "    'boosting_type': 'gbdt',\n",
    "    'objective': 'binary',\n",
    "    'metric': {'auc', 'binary_logloss', 'binary_logloss'},\n",
    "}\n",
    "# params = {\n",
    "#     'task': 'train',\n",
    "#     'boosting_type': 'gbdt',\n",
    "#     'objective': 'regression',\n",
    "#     'metric': {'l2'}\n",
    "# }\n",
    "\n",
    "gbm = lgb.train(params,\n",
    "                lgb_train,\n",
    "                num_boost_round=58,\n",
    "                valid_sets=lgb_eval\n",
    "                )\n",
    "gbm.save_model('model/lgb_model.txt')\n",
    "\n",
    "temp = gbm.predict(X_test)\n",
    "temp[temp>0.45]=1\n",
    "temp[temp<0.45]=0\n",
    "print('结果：' + str(sklearn.metrics.f1_score(Y_test, temp)))\n",
    "print('特征重要性：'+ str(list(gbm.feature_importance())))"
   ]
  },
  {
   "cell_type": "code",
   "execution_count": 41,
   "metadata": {},
   "outputs": [
    {
     "name": "stdout",
     "output_type": "stream",
     "text": [
      "为1的个数：0\n",
      "为0的个数：0\n"
     ]
    }
   ],
   "source": [
    "pre = gbm.predict(test_feature)\n",
    "df_result = pd.DataFrame()\n",
    "df_result['user_id'] = test['user_id']\n",
    "df_result['result'] = pre\n",
    "df_result.to_csv('result/lgb_result.csv', index=False)\n",
    "pre[pre >= 0.45]=1\n",
    "pre[pre < 0.45]=0\n",
    "pre = map(int,pre)\n",
    "print('为1的个数：' + str(len(np.where(np.array(pre)==1)[0])))\n",
    "print('为0的个数：' + str(len(np.where(np.array(pre)==0)[0])))"
   ]
  },
  {
   "cell_type": "code",
   "execution_count": 42,
   "metadata": {},
   "outputs": [
    {
     "name": "stdout",
     "output_type": "stream",
     "text": [
      "23621\n"
     ]
    }
   ],
   "source": [
    "lgb = pd.read_csv('result/lgb_result.csv')\n",
    "res = lgb[lgb['result'] >= 0.45]\n",
    "print(len(res))\n",
    "del res['result']\n",
    "res.to_csv('result2/dealed_result818.csv', index=False, header=False)"
   ]
  },
  {
   "cell_type": "code",
   "execution_count": 31,
   "metadata": {},
   "outputs": [
    {
     "data": {
      "text/plain": [
       "55"
      ]
     },
     "execution_count": 31,
     "metadata": {},
     "output_type": "execute_result"
    }
   ],
   "source": [
    "a = np.array([7, 20, 17, 6, 10, 0, 22, 5, 10, 0, 0, 0, 131, 21, 30, 19, 133, 6, 193, 18, 0, 46, 29, 43, 17, 52, 23, 78, 0, 41, 0, 45, 54, 48, 42, 10, 62, 56, 39, 59, 36, 93, 21, 12, 15, 0, 0, 47, 55, 39, 27, 0, 10, 53, 0])\n",
    "a.size"
   ]
  },
  {
   "cell_type": "code",
   "execution_count": 38,
   "metadata": {},
   "outputs": [
    {
     "name": "stdout",
     "output_type": "stream",
     "text": [
      "[1, 2, 6, 12, 13, 14, 15, 16, 18, 19, 21, 22, 23, 24, 25, 26, 27, 29, 31, 32, 33, 34, 36, 37, 38, 39, 40, 41, 42, 47, 48, 49, 50, 53]\n"
     ]
    }
   ],
   "source": [
    "b = []\n",
    "for i in range(0, a.size-1):\n",
    "    if a[i] > 15:\n",
    "        b.append(i)\n",
    "print(b)"
   ]
  },
  {
   "cell_type": "code",
   "execution_count": null,
   "metadata": {},
   "outputs": [],
   "source": []
  }
 ],
 "metadata": {
  "kernelspec": {
   "display_name": "Python 3",
   "language": "python",
   "name": "python3"
  },
  "language_info": {
   "codemirror_mode": {
    "name": "ipython",
    "version": 3
   },
   "file_extension": ".py",
   "mimetype": "text/x-python",
   "name": "python",
   "nbconvert_exporter": "python",
   "pygments_lexer": "ipython3",
   "version": "3.6.4"
  }
 },
 "nbformat": 4,
 "nbformat_minor": 2
}
