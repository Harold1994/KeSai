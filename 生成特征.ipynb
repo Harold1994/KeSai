{
 "cells": [
  {
   "cell_type": "code",
   "execution_count": 2,
   "metadata": {},
   "outputs": [],
   "source": [
    "import numpy as np\n",
    "import pandas as pd\n",
    "from pandas import DataFrame\n",
    "from scipy.stats import stats\n",
    "from collections import Counter"
   ]
  },
  {
   "cell_type": "code",
   "execution_count": 36,
   "metadata": {},
   "outputs": [],
   "source": [
    "one_dataSet_train_path = \"data/one_data_train_\"\n",
    "one_dataSet_test_path = 'data/one_data_test_'\n",
    "two_dataSet_train_path = 'data/two_data_train_'\n",
    "two_dataSet_test_path = 'data/two_data_test_'\n",
    "three_dataSet_train_path = 'data/three_data_train_'\n",
    "\n",
    "train_path = 'data/train_and_test/train.csv'\n",
    "test_path = 'data/train_and_test/test.csv'"
   ]
  },
  {
   "cell_type": "code",
   "execution_count": 4,
   "metadata": {},
   "outputs": [],
   "source": [
    "register = 'register.csv'\n",
    "create = 'create.csv'\n",
    "launch = 'launch.csv'\n",
    "activity = 'activity.csv'"
   ]
  },
  {
   "cell_type": "code",
   "execution_count": 19,
   "metadata": {},
   "outputs": [],
   "source": [
    "#构建训练集与测试集与特征\n",
    "#获取所有id,查看对应id是否在测试集中出现过\n",
    "def get_train_label(train_path, test_path):\n",
    "    train_reg = pd.read_csv(train_path + register, usecols=['user_id'])\n",
    "    train_cre = pd.read_csv(train_path + create, usecols=['user_id'])\n",
    "    train_lau = pd.read_csv(train_path + launch, usecols=['user_id'])\n",
    "    train_act = pd.read_csv(train_path + activity, usecols=['user_id'])\n",
    "    train_data_id = np.unique(pd.concat([train_act, train_cre, train_lau, train_reg]))\n",
    "    \n",
    "    test_reg = pd.read_csv(test_path + register, usecols=['user_id'])\n",
    "    test_cre = pd.read_csv(test_path + create, usecols=['user_id'])\n",
    "    test_lau = pd.read_csv(test_path + launch, usecols=['user_id'])\n",
    "    test_act = pd.read_csv(test_path + activity, usecols=['user_id'])\n",
    "    test_data_id = np.unique(pd.concat([test_act, test_cre, test_lau, test_reg]))\n",
    "    \n",
    "    train_label = []\n",
    "    for i in train_data_id:\n",
    "        if i in test_data_id:\n",
    "            train_label.append(1)\n",
    "        else:\n",
    "            train_label.append(0)\n",
    "    train_data = pd.DataFrame()\n",
    "    train_data['user_id'] = train_data_id\n",
    "    train_data['label'] = train_label\n",
    "    return train_data"
   ]
  },
  {
   "cell_type": "code",
   "execution_count": 44,
   "metadata": {},
   "outputs": [],
   "source": [
    "def get_test(test_path):\n",
    "    test_reg = pd.read_csv(test_path + register, usecols=['user_id'])\n",
    "    test_cre = pd.read_csv(test_path + create, usecols=['user_id'])\n",
    "    test_lau = pd.read_csv(test_path + launch, usecols=['user_id'])\n",
    "    test_act = pd.read_csv(test_path + activity, usecols=['user_id'])\n",
    "    test_data_id = np.unique(pd.concat([test_act, test_cre, test_lau, test_reg]))\n",
    "    test_data = pd.DataFrame()\n",
    "    test_data['user_id'] = test_data_id\n",
    "    return test_data"
   ]
  },
  {
   "cell_type": "code",
   "execution_count": 82,
   "metadata": {},
   "outputs": [],
   "source": [
    "def get_create_feature(row):\n",
    "    feature = pd.Series()\n",
    "    feature['user_id'] = list(row['user_id'])[0]\n",
    "    feature['create_count'] = int (pd.DataFrame(row['user_id']).count())\n",
    "    feature['create_day_diff_mean'] = int (pd.DataFrame(row['day']).mean())\n",
    "    feature['create_day_diff_max'] = int(pd.DataFrame(row['day']).max())\n",
    "    feature['create_day_diff_min'] = int (pd.DataFrame(row['day']).min())\n",
    "    feature['create_day_diff_std'] = float (pd.DataFrame(row['day']).std())\n",
    "    feature['create_day_diff_var'] = float (pd.DataFrame(row['day']).var())\n",
    "    feature['last_day_cut_max_day'] = list(row['max_day'])[0] - feature['create_day_diff_max']\n",
    "    return feature   \n",
    "\n",
    "def get_register_feature(row):\n",
    "    feature = pd.Series()\n",
    "    feature['user_id'] = list(row['register_type'])[0]\n",
    "    feature['device_type'] = list(row['device_type'])[0]\n",
    "    feature['register_type'] = list(row['register_type'])[0]\n",
    "    feature['register_day_cut_max_day'] = list(row['max_day'])[0] - list(row['register_day'])[0]\n",
    "    return feature    \n",
    "\n",
    "def get_launch_feature(row):\n",
    "    feature = pd.Series()\n",
    "    feature['user_id'] = list(row['user_id'])[0]\n",
    "    feature['launch_count'] = int (pd.DataFrame(row['user_id']).count())\n",
    "    feature['launch_day_diff_mean'] = int (pd.DataFrame(row['day']).mean())\n",
    "    feature['launch_day_diff_max'] = int (pd.DataFrame(row['day']).max())\n",
    "    feature['launch_day_diff_min'] = int (pd.DataFrame(row['day']).min())\n",
    "    feature['launch_day_diff_std'] = float (pd.DataFrame(row['day']).std())\n",
    "    feature['launch_day_diff_var'] = float (pd.DataFrame(row['day']).var())\n",
    "    feature['launch_day_cut_max_day'] = list(row['max_day'])[0] - feature['launch_day_diff_max']\n",
    "    return feature   \n",
    "\n",
    "def get_activity_feature(row):\n",
    "    feature = pd.Series()\n",
    "    feature['user_id'] = list(row['user_id'])[0]\n",
    "    feature['activity_count'] = int (pd.DataFrame(row['user_id']).count())\n",
    "    feature['activity_day_diff_mean'] = int (pd.DataFrame(row['day']).mean())\n",
    "    feature['activity_day_diff_max'] = int (pd.DataFrame(row['day']).max())\n",
    "    feature['activity_day_diff_min'] = int (pd.DataFrame(row['day']).min())\n",
    "    feature['activity_day_diff_std'] = float (pd.DataFrame(row['day']).fillna(0).std())\n",
    "    feature['activity_day_diff_var'] = float (pd.DataFrame(row['day']).var())\n",
    "    feature['activity_day_diff_ske'] = float (pd.DataFrame(row['day']).skew())\n",
    "    feature['activity_day_diff_kur'] = float (pd.DataFrame(row['day']).skew())\n",
    "    feature['activity_day_cut_max_day'] = list(row['max_day'])[0] - feature['activity_day_diff_max']\n",
    "    return feature   "
   ]
  },
  {
   "cell_type": "code",
   "execution_count": 83,
   "metadata": {},
   "outputs": [],
   "source": [
    "def deal_feature(path, user_id):\n",
    "    reg = pd.read_csv(path + register)\n",
    "    cre = pd.read_csv(path + create)\n",
    "    lau = pd.read_csv(path + launch)\n",
    "    act = pd.read_csv(path + activity)\n",
    "    feature = pd.DataFrame()\n",
    "    feature['user_id'] = user_id\n",
    "    \n",
    "    cre['max_day'] = np.max(reg['register_day'])\n",
    "    cre_feature = cre.groupby('user_id', sort = True).apply(get_create_feature)\n",
    "    feature = pd.merge(feature, pd.DataFrame(cre_feature), on='user_id', how='left')\n",
    "    print('create表特征提取完毕')\n",
    "    \n",
    "    reg['max_day'] = np.max(reg['register_day'])\n",
    "    reg_feature = reg.groupby('user_id', sort = True).apply(get_register_feature)\n",
    "    feature = pd.merge(feature, pd.DataFrame(reg_feature), on='user_id', how='left')\n",
    "    print('register表特征提取完毕')\n",
    "    \n",
    "    lau['max_day'] = np.max(reg['register_day'])\n",
    "    lau_feature = lau.groupby('user_id', sort = True).apply(get_launch_feature)\n",
    "    feature = pd.merge(feature, pd.DataFrame(lau_feature), on='user_id', how='left')\n",
    "    print('launch表特征提取完毕')\n",
    "    \n",
    "    act['max_day'] = np.max(reg['register_day'])\n",
    "    act_feature = act.groupby('user_id', sort = True).apply(get_activity_feature)\n",
    "    feature = pd.merge(feature, pd.DataFrame(act_feature), on='user_id', how='left')\n",
    "    print('activity表特征提取完毕')\n",
    "    return feature"
   ]
  },
  {
   "cell_type": "code",
   "execution_count": 89,
   "metadata": {},
   "outputs": [],
   "source": [
    "def get_data_feature():\n",
    "    one_train_data = get_train_label(one_dataSet_train_path, one_dataSet_test_path)\n",
    "    one_feature = deal_feature(one_dataSet_train_path, one_train_data['user_id'])\n",
    "    one_feature['label'] = one_train_data['label']\n",
    "    one_feature.to_csv('data1.csv', index=False)\n",
    "    print('第一组训练数据特征值提取完毕并保存')\n",
    "    \n",
    "#     two_train_data = get_train_label(two_dataSet_train_path, two_dataSet_test_path)\n",
    "#     two_feature = deal_feature(two_dataSet_train_path, two_train_data['user_id'])\n",
    "#     two_feature['label'] = two_train_data['label']\n",
    "#     two_feature.to_csv('data_one.csv', index=False)\n",
    "#     print('第二组训练数据特征值提取完毕')\n",
    "    two_feature = pd.read_csv('data_one.csv')\n",
    "    train_feature = pd.concat([one_feature, two_feature])\n",
    "    train_feature.to_csv(train_path, index = False)\n",
    "    print('训练数据存储完毕')\n",
    "    \n",
    "    test_data = get_test(three_dataSet_train_path)\n",
    "    test_feature = deal_feature(three_dataSet_train_path, test_data['user_id'])\n",
    "    test_feature.to_csv(test_path, index=False)\n",
    "    print('测试数据存储完毕')"
   ]
  },
  {
   "cell_type": "code",
   "execution_count": 90,
   "metadata": {},
   "outputs": [
    {
     "name": "stdout",
     "output_type": "stream",
     "text": [
      "create表特征提取完毕\n",
      "register表特征提取完毕\n",
      "launch表特征提取完毕\n",
      "activity表特征提取完毕\n",
      "第一组训练数据特征值提取完毕并保存\n",
      "训练数据存储完毕\n",
      "create表特征提取完毕\n",
      "register表特征提取完毕\n",
      "launch表特征提取完毕\n",
      "activity表特征提取完毕\n",
      "测试数据存储完毕\n"
     ]
    }
   ],
   "source": [
    "get_data_feature()"
   ]
  },
  {
   "cell_type": "code",
   "execution_count": null,
   "metadata": {},
   "outputs": [],
   "source": []
  },
  {
   "cell_type": "code",
   "execution_count": null,
   "metadata": {},
   "outputs": [],
   "source": []
  }
 ],
 "metadata": {
  "kernelspec": {
   "display_name": "Python 3",
   "language": "python",
   "name": "python3"
  },
  "language_info": {
   "codemirror_mode": {
    "name": "ipython",
    "version": 3
   },
   "file_extension": ".py",
   "mimetype": "text/x-python",
   "name": "python",
   "nbconvert_exporter": "python",
   "pygments_lexer": "ipython3",
   "version": "3.6.4"
  }
 },
 "nbformat": 4,
 "nbformat_minor": 2
}
